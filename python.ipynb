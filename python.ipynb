{
  "nbformat": 4,
  "nbformat_minor": 0,
  "metadata": {
    "colab": {
      "provenance": [],
      "authorship_tag": "ABX9TyMz8gbwAA9g+EOKvQ/30EGh",
      "include_colab_link": true
    },
    "kernelspec": {
      "name": "python3",
      "display_name": "Python 3"
    },
    "language_info": {
      "name": "python"
    }
  },
  "cells": [
    {
      "cell_type": "markdown",
      "metadata": {
        "id": "view-in-github",
        "colab_type": "text"
      },
      "source": [
        "<a href=\"https://colab.research.google.com/github/Zainab090/Python-program-reverse-words/blob/main/python.ipynb\" target=\"_parent\"><img src=\"https://colab.research.google.com/assets/colab-badge.svg\" alt=\"Open In Colab\"/></a>"
      ]
    },
    {
      "cell_type": "code",
      "source": [
        "# Program to reverse words with odd length in a sentence\n",
        "\n",
        "# Take input from user\n",
        "sentence = input(\"Enter a sentence: \")\n",
        "\n",
        "# Split sentence into words\n",
        "words = sentence.split()\n",
        "\n",
        "# Process each word\n",
        "updated_words = []\n",
        "for word in words:\n",
        "    if len(word) % 2 != 0:  # odd length\n",
        "        updated_words.append(word[::-1])  # reverse word\n",
        "    else:\n",
        "        updated_words.append(word)  # keep as it is\n",
        "\n",
        "# Join the updated words back into a sentence\n",
        "updated_sentence = \" \".join(updated_words)\n",
        "\n",
        "# Print result\n",
        "print(\"Output:\", updated_sentence)\n"
      ],
      "metadata": {
        "id": "zWRCfspucM9b"
      },
      "execution_count": null,
      "outputs": []
    }
  ]
}